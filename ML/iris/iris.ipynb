{
 "cells": [
  {
   "cell_type": "code",
   "execution_count": 1,
   "metadata": {},
   "outputs": [],
   "source": [
    "import numpy as np\n",
    "import pandas as pd\n",
    "import matplotlib\n",
    "import matplotlib.pyplot as plt\n",
    "from sklearn.neighbors import KNeighborsClassifier\n",
    "from sklearn.model_selection import train_test_split\n",
    "matplotlib.style.use('ggplot')\n",
    "%matplotlib inline\n"
   ]
  },
  {
   "cell_type": "code",
   "execution_count": 2,
   "metadata": {},
   "outputs": [],
   "source": [
    "df=pd.read_csv(\"iris.csv\")"
   ]
  },
  {
   "cell_type": "code",
   "execution_count": 5,
   "metadata": {},
   "outputs": [
    {
     "data": {
      "text/html": [
       "<div>\n",
       "<style scoped>\n",
       "    .dataframe tbody tr th:only-of-type {\n",
       "        vertical-align: middle;\n",
       "    }\n",
       "\n",
       "    .dataframe tbody tr th {\n",
       "        vertical-align: top;\n",
       "    }\n",
       "\n",
       "    .dataframe thead th {\n",
       "        text-align: right;\n",
       "    }\n",
       "</style>\n",
       "<table border=\"1\" class=\"dataframe\">\n",
       "  <thead>\n",
       "    <tr style=\"text-align: right;\">\n",
       "      <th></th>\n",
       "      <th>sepal.length</th>\n",
       "      <th>sepal.width</th>\n",
       "      <th>petal.length</th>\n",
       "      <th>petal.width</th>\n",
       "      <th>variety</th>\n",
       "      <th>value</th>\n",
       "    </tr>\n",
       "  </thead>\n",
       "  <tbody>\n",
       "    <tr>\n",
       "      <td>0</td>\n",
       "      <td>5.1</td>\n",
       "      <td>3.5</td>\n",
       "      <td>1.4</td>\n",
       "      <td>0.2</td>\n",
       "      <td>Setosa</td>\n",
       "      <td>1</td>\n",
       "    </tr>\n",
       "    <tr>\n",
       "      <td>1</td>\n",
       "      <td>4.9</td>\n",
       "      <td>3.0</td>\n",
       "      <td>1.4</td>\n",
       "      <td>0.2</td>\n",
       "      <td>Setosa</td>\n",
       "      <td>1</td>\n",
       "    </tr>\n",
       "    <tr>\n",
       "      <td>2</td>\n",
       "      <td>4.7</td>\n",
       "      <td>3.2</td>\n",
       "      <td>1.3</td>\n",
       "      <td>0.2</td>\n",
       "      <td>Setosa</td>\n",
       "      <td>1</td>\n",
       "    </tr>\n",
       "    <tr>\n",
       "      <td>3</td>\n",
       "      <td>4.6</td>\n",
       "      <td>3.1</td>\n",
       "      <td>1.5</td>\n",
       "      <td>0.2</td>\n",
       "      <td>Setosa</td>\n",
       "      <td>1</td>\n",
       "    </tr>\n",
       "    <tr>\n",
       "      <td>4</td>\n",
       "      <td>5.0</td>\n",
       "      <td>3.6</td>\n",
       "      <td>1.4</td>\n",
       "      <td>0.2</td>\n",
       "      <td>Setosa</td>\n",
       "      <td>1</td>\n",
       "    </tr>\n",
       "    <tr>\n",
       "      <td>...</td>\n",
       "      <td>...</td>\n",
       "      <td>...</td>\n",
       "      <td>...</td>\n",
       "      <td>...</td>\n",
       "      <td>...</td>\n",
       "      <td>...</td>\n",
       "    </tr>\n",
       "    <tr>\n",
       "      <td>145</td>\n",
       "      <td>6.7</td>\n",
       "      <td>3.0</td>\n",
       "      <td>5.2</td>\n",
       "      <td>2.3</td>\n",
       "      <td>Virginica</td>\n",
       "      <td>3</td>\n",
       "    </tr>\n",
       "    <tr>\n",
       "      <td>146</td>\n",
       "      <td>6.3</td>\n",
       "      <td>2.5</td>\n",
       "      <td>5.0</td>\n",
       "      <td>1.9</td>\n",
       "      <td>Virginica</td>\n",
       "      <td>3</td>\n",
       "    </tr>\n",
       "    <tr>\n",
       "      <td>147</td>\n",
       "      <td>6.5</td>\n",
       "      <td>3.0</td>\n",
       "      <td>5.2</td>\n",
       "      <td>2.0</td>\n",
       "      <td>Virginica</td>\n",
       "      <td>3</td>\n",
       "    </tr>\n",
       "    <tr>\n",
       "      <td>148</td>\n",
       "      <td>6.2</td>\n",
       "      <td>3.4</td>\n",
       "      <td>5.4</td>\n",
       "      <td>2.3</td>\n",
       "      <td>Virginica</td>\n",
       "      <td>3</td>\n",
       "    </tr>\n",
       "    <tr>\n",
       "      <td>149</td>\n",
       "      <td>5.9</td>\n",
       "      <td>3.0</td>\n",
       "      <td>5.1</td>\n",
       "      <td>1.8</td>\n",
       "      <td>Virginica</td>\n",
       "      <td>3</td>\n",
       "    </tr>\n",
       "  </tbody>\n",
       "</table>\n",
       "<p>150 rows × 6 columns</p>\n",
       "</div>"
      ],
      "text/plain": [
       "     sepal.length  sepal.width  petal.length  petal.width    variety  value\n",
       "0             5.1          3.5           1.4          0.2     Setosa      1\n",
       "1             4.9          3.0           1.4          0.2     Setosa      1\n",
       "2             4.7          3.2           1.3          0.2     Setosa      1\n",
       "3             4.6          3.1           1.5          0.2     Setosa      1\n",
       "4             5.0          3.6           1.4          0.2     Setosa      1\n",
       "..            ...          ...           ...          ...        ...    ...\n",
       "145           6.7          3.0           5.2          2.3  Virginica      3\n",
       "146           6.3          2.5           5.0          1.9  Virginica      3\n",
       "147           6.5          3.0           5.2          2.0  Virginica      3\n",
       "148           6.2          3.4           5.4          2.3  Virginica      3\n",
       "149           5.9          3.0           5.1          1.8  Virginica      3\n",
       "\n",
       "[150 rows x 6 columns]"
      ]
     },
     "execution_count": 5,
     "metadata": {},
     "output_type": "execute_result"
    }
   ],
   "source": [
    "df"
   ]
  },
  {
   "cell_type": "code",
   "execution_count": 3,
   "metadata": {},
   "outputs": [],
   "source": [
    "df_key = pd.DataFrame({'variety': ['Setosa', 'Versicolor', 'Virginica'], 'value': [1, 2, 3]})\n",
    "df = pd.merge(df, df_key)\n"
   ]
  },
  {
   "cell_type": "code",
   "execution_count": null,
   "metadata": {},
   "outputs": [],
   "source": []
  },
  {
   "cell_type": "code",
   "execution_count": 4,
   "metadata": {},
   "outputs": [
    {
     "name": "stdout",
     "output_type": "stream",
     "text": [
      "(150, 6)\n",
      "150\n"
     ]
    }
   ],
   "source": [
    "print(df.shape)\n",
    "print(len(df))"
   ]
  },
  {
   "cell_type": "code",
   "execution_count": 9,
   "metadata": {},
   "outputs": [],
   "source": [
    "X_train, X_test, y_train, y_test=train_test_split(df[['sepal.length','sepal.width','petal.length','petal.width']],\n",
    "                                                  df['variety'],\n",
    "                                                  random_state = 3)"
   ]
  },
  {
   "cell_type": "code",
   "execution_count": 10,
   "metadata": {},
   "outputs": [
    {
     "name": "stdout",
     "output_type": "stream",
     "text": [
      "(112, 4) (112,)\n"
     ]
    }
   ],
   "source": [
    "print(X_train.shape,y_train.shape)"
   ]
  },
  {
   "cell_type": "code",
   "execution_count": 11,
   "metadata": {
    "scrolled": true
   },
   "outputs": [
    {
     "data": {
      "text/plain": [
       "KNeighborsClassifier(n_neighbors=1)"
      ]
     },
     "execution_count": 11,
     "metadata": {},
     "output_type": "execute_result"
    }
   ],
   "source": [
    "knn = KNeighborsClassifier(n_neighbors=1)\n",
    "knn.fit(X_train,y_train)"
   ]
  },
  {
   "cell_type": "code",
   "execution_count": 12,
   "metadata": {},
   "outputs": [
    {
     "name": "stdout",
     "output_type": "stream",
     "text": [
      "Ошибки на обучающей выборке: 0.0 \n",
      "Ошибки на тестовой выборке: 0.05263157894736842\n"
     ]
    }
   ],
   "source": [
    "y_train_predict = knn.predict(X_train)\n",
    "y_test_predict = knn.predict(X_test)\n",
    "\n",
    "err_train = np.mean(y_train != y_train_predict)\n",
    "err_test  = np.mean(y_test  != y_test_predict)\n",
    "print (\"Ошибки на обучающей выборке:\",err_train,\"\\nОшибки на тестовой выборке:\",err_test)"
   ]
  },
  {
   "cell_type": "code",
   "execution_count": 13,
   "metadata": {},
   "outputs": [
    {
     "name": "stdout",
     "output_type": "stream",
     "text": [
      "Процент правильных пердиктов: 0.9473684210526315\n"
     ]
    }
   ],
   "source": [
    "print(\"Процент правильных пердиктов:\",knn.score(X_test,y_test))"
   ]
  },
  {
   "cell_type": "code",
   "execution_count": 14,
   "metadata": {},
   "outputs": [],
   "source": [
    "def prediction(x):\n",
    "    prediction = knn.predict(x)\n",
    "    print(\"Предикт:\",prediction)\n"
   ]
  },
  {
   "cell_type": "code",
   "execution_count": 15,
   "metadata": {},
   "outputs": [
    {
     "name": "stdout",
     "output_type": "stream",
     "text": [
      "Предикт: ['Setosa']\n",
      "Предикт: ['Setosa']\n",
      "Предикт: ['Virginica']\n",
      "Предикт: ['Setosa']\n",
      "Предикт: ['Virginica']\n"
     ]
    }
   ],
   "source": [
    "prediction([[5, 2.9, 1, 0.2]])\n",
    "prediction([[1, 2.5, 1.4, 0.2]])\n",
    "prediction([[7, 8, 8, 2]])\n",
    "prediction([[1, 1, 1, 1]])\n",
    "prediction([[0.5, 1.7, 4, 1.5]])\n"
   ]
  },
  {
   "cell_type": "code",
   "execution_count": 16,
   "metadata": {},
   "outputs": [
    {
     "name": "stdout",
     "output_type": "stream",
     "text": [
      "     sepal.length  sepal.width  petal.length  petal.width\n",
      "47            4.6          3.2           1.4          0.2\n",
      "3             4.6          3.1           1.5          0.2\n",
      "31            5.4          3.4           1.5          0.4\n",
      "25            5.0          3.0           1.6          0.2\n",
      "15            5.7          4.4           1.5          0.4\n",
      "118           7.7          2.6           6.9          2.3\n",
      "89            5.5          2.5           4.0          1.3\n",
      "6             4.6          3.4           1.4          0.3\n",
      "103           6.3          2.9           5.6          1.8\n",
      "65            6.7          3.1           4.4          1.4\n",
      "88            5.6          3.0           4.1          1.3\n",
      "38            4.4          3.0           1.3          0.2\n",
      "92            5.8          2.6           4.0          1.2\n",
      "53            5.5          2.3           4.0          1.3\n",
      "140           6.7          3.1           5.6          2.4\n",
      "40            5.0          3.5           1.3          0.3\n",
      "72            6.3          2.5           4.9          1.5\n",
      "135           7.7          3.0           6.1          2.3\n",
      "113           5.7          2.5           5.0          2.0\n",
      "42            4.4          3.2           1.3          0.2\n",
      "126           6.2          2.8           4.8          1.8\n",
      "112           6.8          3.0           5.5          2.1\n",
      "141           6.9          3.1           5.1          2.3\n",
      "76            6.8          2.8           4.8          1.4\n",
      "5             5.4          3.9           1.7          0.4\n",
      "109           7.2          3.6           6.1          2.5\n",
      "134           6.1          2.6           5.6          1.4\n",
      "67            5.8          2.7           4.1          1.0\n",
      "57            4.9          2.4           3.3          1.0\n",
      "86            6.7          3.1           4.7          1.5\n",
      "14            5.8          4.0           1.2          0.2\n",
      "24            4.8          3.4           1.9          0.2\n",
      "139           6.9          3.1           5.4          2.1\n",
      "58            6.6          2.9           4.6          1.3\n",
      "8             4.4          2.9           1.4          0.2\n",
      "27            5.2          3.5           1.5          0.2\n",
      "77            6.7          3.0           5.0          1.7\n",
      "41            4.5          2.3           1.3          0.3\n",
      "Предикт: ['Setosa' 'Setosa' 'Setosa' 'Setosa' 'Setosa' 'Virginica' 'Versicolor'\n",
      " 'Setosa' 'Virginica' 'Versicolor' 'Versicolor' 'Setosa' 'Versicolor'\n",
      " 'Versicolor' 'Virginica' 'Setosa' 'Virginica' 'Virginica' 'Virginica'\n",
      " 'Setosa' 'Virginica' 'Virginica' 'Virginica' 'Versicolor' 'Setosa'\n",
      " 'Virginica' 'Versicolor' 'Versicolor' 'Versicolor' 'Versicolor' 'Setosa'\n",
      " 'Setosa' 'Virginica' 'Versicolor' 'Setosa' 'Setosa' 'Versicolor' 'Setosa']\n"
     ]
    }
   ],
   "source": [
    "print(X_test)\n",
    "prediction(X_test)"
   ]
  },
  {
   "cell_type": "code",
   "execution_count": null,
   "metadata": {},
   "outputs": [],
   "source": []
  },
  {
   "cell_type": "code",
   "execution_count": null,
   "metadata": {},
   "outputs": [],
   "source": []
  },
  {
   "cell_type": "code",
   "execution_count": null,
   "metadata": {},
   "outputs": [],
   "source": []
  }
 ],
 "metadata": {
  "kernelspec": {
   "display_name": "Python 3",
   "language": "python",
   "name": "python3"
  },
  "language_info": {
   "codemirror_mode": {
    "name": "ipython",
    "version": 3
   },
   "file_extension": ".py",
   "mimetype": "text/x-python",
   "name": "python",
   "nbconvert_exporter": "python",
   "pygments_lexer": "ipython3",
   "version": "3.7.4"
  }
 },
 "nbformat": 4,
 "nbformat_minor": 2
}
