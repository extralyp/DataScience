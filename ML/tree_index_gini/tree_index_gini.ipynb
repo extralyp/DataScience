{
 "cells": [
  {
   "cell_type": "code",
   "execution_count": 1,
   "metadata": {},
   "outputs": [],
   "source": [
    "import pandas as pd\n",
    "import math\n",
    "data = {\n",
    "    'level': ['Senior', 'Senior','Mid','Junior','Junior','Junior','Mid','Senior','Senior','Junior','Senior','Mid','Mid','Junior'],\n",
    "    'lang': ['Java', 'Java', 'Python', 'Python', 'R', 'R', 'R', 'Python', 'R', 'Python', 'Python', 'Python', 'Java', 'Python'],\n",
    "    'tweets': ['no', 'no', 'no', 'no', 'yes', 'yes', 'yes', 'no', 'yes', 'yes', 'yes', 'no', 'yes', 'no'],\n",
    "    'phd': ['no', 'yes', 'yes', 'no', 'no', 'yes', 'yes', 'no', 'no', 'no', 'yes', 'yes', 'no', 'yes'],\n",
    "    'labels': [0, 0, 1, 1, 1, 0, 1, 0, 1, 1, 1, 1, 1, 0]\n",
    "}\n",
    "\n",
    "\n",
    "data = pd.DataFrame(data)"
   ]
  },
  {
   "cell_type": "code",
   "execution_count": 2,
   "metadata": {},
   "outputs": [],
   "source": [
    "def gini_index(subset, features, cl_names, cl_values):\n",
    "    gini_split_list = []\n",
    "    N = len(subset)\n",
    "    r_1 = r_2 = 0\n",
    "    for feature in features:\n",
    "        values = subset[feature].value_counts()\n",
    "        gini_list = []\n",
    "        n_list = []\n",
    "        gini_split = 0\n",
    "\n",
    "        for i in range(len(values)):\n",
    "            # количество записей со значение зависимой переменной\n",
    "            n = values[i]\n",
    "            n_list.append(n)\n",
    "            # значение зависимой переменной\n",
    "            value_key = values.keys()[i]\n",
    "\n",
    "            # количество записей с конкретным значение зависимой переменной и конкретным классом\n",
    "            query = subset.query(\"(\" + feature + \" == '\" + str(value_key) + \"')\").copy()\n",
    "            for i in range(len(cl_names)):\n",
    "                query = query.query(\"(\" + cl_names[i] + \" == '\" + str(cl_values[i]) + \"')\")\n",
    "            r_1 = len(query)\n",
    "            r_2 = n - r_1\n",
    "            gini = 1 - math.pow(r_1 / n, 2) - math.pow(r_2 / n, 2)\n",
    "            gini_list.append(gini)\n",
    "\n",
    "        for i in range(len(gini_list)):\n",
    "            gini_split += n_list[i] / N * gini_list[i]\n",
    "\n",
    "        gini_split_list.append(round(gini_split, 5))\n",
    "\n",
    "    return gini_split_list.index(min(gini_split_list))"
   ]
  },
  {
   "cell_type": "code",
   "execution_count": 3,
   "metadata": {},
   "outputs": [],
   "source": [
    "# разбивает корневой узел на ветки\n",
    "def split(dataset, feature):\n",
    "\n",
    "    values = dataset[feature].value_counts().keys()\n",
    "    df_list = []\n",
    "    for value in values:\n",
    "        df_list.append((feature, value, pd.DataFrame(dataset[dataset[feature] == value].copy())))\n",
    "\n",
    "    return df_list"
   ]
  },
  {
   "cell_type": "code",
   "execution_count": 4,
   "metadata": {},
   "outputs": [],
   "source": [
    "def build_tree(inputs, split_features, class_name, class_value):\n",
    "    num_inputs = len(inputs)\n",
    "    num_trues = len(inputs[inputs[class_name[0]] == class_value[0]])\n",
    "    num_falses = num_inputs - num_trues\n",
    "\n",
    "    if num_trues == 0:\n",
    "        return False\n",
    "    if num_falses == 0:\n",
    "        return True\n",
    "\n",
    "    if not split_features:\n",
    "        return num_trues > num_falses\n",
    "\n",
    "    index = gini_index(inputs, split_features, class_name, class_value)\n",
    "    best_feature = split_features[index]\n",
    "    partitions = split(inputs, best_feature)\n",
    "\n",
    "    new_features = [a for a in split_features if a != best_feature]\n",
    "\n",
    "    # создаем поддеревья\n",
    "    subtrees = {}\n",
    "    class_name.append('')\n",
    "    class_value.append('')\n",
    "\n",
    "    for feature_type, feature_value, subset in partitions:\n",
    "        class_name[-1] = feature_type\n",
    "        class_value[-1] = feature_value\n",
    "\n",
    "        # костыль\n",
    "        if class_name[-1] == class_name[-2]:\n",
    "            class_name.pop(-2)\n",
    "            class_value.pop(-2)\n",
    "        subtrees[feature_value] = build_tree(subset, new_features, class_name, class_value)\n",
    "\n",
    "    return best_feature, subtrees"
   ]
  },
  {
   "cell_type": "code",
   "execution_count": 5,
   "metadata": {},
   "outputs": [
    {
     "name": "stdout",
     "output_type": "stream",
     "text": [
      "('level', {'Senior': ('tweets', {'no': False, 'yes': True}), 'Junior': ('phd', {'no': True, 'yes': False}), 'Mid': True})\n"
     ]
    }
   ],
   "source": [
    "tree = build_tree(data, ['level', 'lang', 'tweets', 'phd'], ['labels'], [1])\n",
    "\n",
    "print(tree)"
   ]
  },
  {
   "cell_type": "code",
   "execution_count": null,
   "metadata": {},
   "outputs": [],
   "source": []
  }
 ],
 "metadata": {
  "kernelspec": {
   "display_name": "Python 3",
   "language": "python",
   "name": "python3"
  },
  "language_info": {
   "codemirror_mode": {
    "name": "ipython",
    "version": 3
   },
   "file_extension": ".py",
   "mimetype": "text/x-python",
   "name": "python",
   "nbconvert_exporter": "python",
   "pygments_lexer": "ipython3",
   "version": "3.7.4"
  }
 },
 "nbformat": 4,
 "nbformat_minor": 2
}
