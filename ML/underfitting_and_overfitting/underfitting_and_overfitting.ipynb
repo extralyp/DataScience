{
 "cells": [
  {
   "cell_type": "code",
   "execution_count": 1,
   "metadata": {},
   "outputs": [],
   "source": [
    "import numpy as np\n",
    "from matplotlib import pyplot as plt\n",
    "from scipy.optimize import minimize"
   ]
  },
  {
   "cell_type": "code",
   "execution_count": 2,
   "metadata": {},
   "outputs": [],
   "source": [
    "# В данной работе вам предлагается несколько моделей линейной регрессии и пронаблюдать эффект недообучения,\n",
    "# переобучения, а так же пронаблюдать соответствующие этим случаям кривые обучения.\n",
    "\n",
    "\n",
    "\n",
    "def compute_hypothesis(X, theta):\n",
    "\n",
    "    # Функция для вычисления гипотезы линейной регрессии.\n",
    "    # Принимает на вход X - матрицу данных, theta - вектор параметров.\n",
    "    # Возвращает вектор значений функции гипотезы на всех примерах из матрицы X.\n",
    "\n",
    "    return X @ theta"
   ]
  },
  {
   "cell_type": "code",
   "execution_count": 3,
   "metadata": {},
   "outputs": [],
   "source": [
    "\n",
    "def train_linear_regression(X_train, y_train, init_theta, lamb):\n",
    "\n",
    "    # Функция для обучения алгоритма линейной регрессии.\n",
    "    # Принимает на вход X_train - матрицу данных, y_train - вектор значений целевой переменной,\n",
    "    # init_theta - вектор начальногог приблежения параметров для старта градиентного спуска,\n",
    "    # lamb - параметр регуляризации.\n",
    "    # Возвращает кортеж из двух элементов: флаг успеха минимизации (True или False) и оптимальный вектор параметров.\n",
    "    \n",
    "    \n",
    "\n",
    "    opt_theta_obj = minimize(lambda th: compute_cost(X_train, y_train, th, lamb), init_theta,\n",
    "                             method='BFGS',\n",
    "                             jac=lambda th: compute_cost_grad(X_train, y_train, th, lamb),\n",
    "                             options={'gtol': 1e-5, 'maxiter': 200, 'disp': False})\n",
    "    return opt_theta_obj.success, opt_theta_obj.x"
   ]
  },
  {
   "cell_type": "code",
   "execution_count": 4,
   "metadata": {},
   "outputs": [],
   "source": [
    "def show_learning_curves(curves):\n",
    "\n",
    "    # Функция для отрисовки кривых обучения.\n",
    "    # Принимает на вход список котрежей. Индекс кортежа - координата по оси абсцисс, элементы кортежа - значения\n",
    "    # кривой обучения на обучающем наборе и валидационном наборе соответственно.\n",
    "\n",
    "    tr_curve = list(map(lambda x: x[0], curves))\n",
    "    val_curve = list(map(lambda x: x[1], curves))\n",
    "\n",
    "    plt.plot(range(1, len(tr_curve) + 1), tr_curve)\n",
    "    plt.plot(range(1, len(val_curve) + 1), val_curve)\n",
    "\n",
    "    plt.xlim(2, len(curves) + 1)\n",
    "    plt.ylim(0, 150)\n",
    "\n",
    "    plt.title('Кривые обучения')\n",
    "\n",
    "    plt.ylabel('Ошибка')\n",
    "    plt.xlabel('Количество примеров в обучающем наборе')\n",
    "\n",
    "    plt.legend(['Обучающий набор', 'Валидационный набор'])\n",
    "\n",
    "    plt.show()"
   ]
  },
  {
   "cell_type": "code",
   "execution_count": 5,
   "metadata": {},
   "outputs": [],
   "source": [
    "def map_features(X, p):\n",
    "\n",
    "    # Функция для добавления степеней в набор признаков примера.\n",
    "    # Принимает на вход X - матрицу данных, p - степень рещультирующего полинома.\n",
    "    # Возвращает новую матрицу данных, в которую добавлены степени первого (X[:, 1]) признака матрицы данных\n",
    "    # до p-ой включительно.\n",
    "\n",
    "    for i in range(2, p + 1):\n",
    "        X = np.append(X, X[:, 1].reshape(X.shape[0], 1) ** i, axis=1)\n",
    "    return X"
   ]
  },
  {
   "cell_type": "code",
   "execution_count": 6,
   "metadata": {},
   "outputs": [],
   "source": [
    "def load_data(data_file_path):\n",
    "\n",
    "    # Функция для загрузки данных.\n",
    "    # Принимает на вход путь к файлу.\n",
    "    # На выход возвращает кортеж из двух элементов:\n",
    "    # матрицу данных с фиктивным признаком и вектор значений целевой переменной.\n",
    "\n",
    "    with open(data_file_path) as input_file:\n",
    "        X = list()\n",
    "        y = list()\n",
    "        for line in input_file:\n",
    "            *row, label = map(float, line.split(','))\n",
    "            X.append([1] + row)\n",
    "            y.append(label)\n",
    "        return np.array(X, float), np.array(y, float)"
   ]
  },
  {
   "cell_type": "code",
   "execution_count": 7,
   "metadata": {},
   "outputs": [],
   "source": [
    "def scale_features(X):\n",
    "\n",
    "    # Функция для стандартизации признаков.\n",
    "    # Принимает на вход матрицу данных X.\n",
    "    # На выход возвращает кортеж из двух элементов: новую матрицу данных, со стандартизированными признаками и\n",
    "    # кортеж из двух элементов: вектор средних значений признаков и вектор средних квадратических отклонений.\n",
    "\n",
    "    result = np.zeros((X.shape[0], X.shape[1] - 1))  # матрица результата, её нужно заполнить.\n",
    "    mean = np.zeros(X.shape[1] - 1)  # вектор средних значений признаков, его нужно заполнить.\n",
    "    \n",
    "    m, n = X.shape  # количество примеров в выборке и признаков в примере соответственно.\n",
    "    \n",
    "    X = np.delete(X, 0, 1)  # убрал столбец единиц, т.к. при стандартизцаии происходит деление ноль на ноль\n",
    "\n",
    "    mean = 1 / m * (sum(X))\n",
    "    std = ((sum((X - mean) ** 2)) / (m - 1)) ** (1 / 2)\n",
    "    std_col = (X - mean) / std\n",
    "    \n",
    "    result = np.concatenate((np.ones((X.shape[0],1)), std_col), axis=1)  # добавляю фиктивный признак\n",
    "\n",
    "    return result, (mean, std)"
   ]
  },
  {
   "cell_type": "code",
   "execution_count": 8,
   "metadata": {},
   "outputs": [],
   "source": [
    "def compute_cost(X, y, theta, lamb):\n",
    "\n",
    "    # Функция для расчета стоимости (ошибки) модели на наборе данных.\n",
    "    # Принимает на вход X - матрицу данных, y - вектор значений целевой переменной, theta - вектор параметров,\n",
    "    # lamb - параметр регуляризации.\n",
    "    # Возвращает значение функции стоимости на данном наборе данных.\n",
    "    theta0 = np.delete(theta, 0)\n",
    "\n",
    "    m, n = X.shape  # количество примеров в выборке и признаков в примере соответственно.\n",
    "    reg = (lamb / (2 * m)) * (np.sum(pow(theta0,2)))\n",
    "    cost = (1/ (2 * m)) * np.sum(pow((compute_hypothesis(X, theta) - y), 2)) + reg\n",
    "\n",
    "\n",
    "    return cost"
   ]
  },
  {
   "cell_type": "code",
   "execution_count": 9,
   "metadata": {},
   "outputs": [],
   "source": [
    "def compute_cost_grad(X, y, theta, lamb):\n",
    "\n",
    "    # Функция для расчета градиента функции стоимости в заданной точке.\n",
    "    # Принимает на вход X - матрицу данных, y - вектор значений целевой переменной,\n",
    "    # theta - точка, в которой расчитывается градиент, lamb - параметр регуляризации.\n",
    "    # Возвращает градиент функции стоимости в заданной точке.\n",
    "\n",
    "    m, n = X.shape  # количество примеров в выборке и признаков в примере соответственно.\n",
    "    grad = (X.T @ (compute_hypothesis(X, theta) - y)) / m\n",
    "\n",
    "  \n",
    "\n",
    "    return grad"
   ]
  },
  {
   "cell_type": "code",
   "execution_count": 10,
   "metadata": {},
   "outputs": [],
   "source": [
    "def compute_learning_curves(X_train, y_train, X_val, y_val, lamb):\n",
    "\n",
    "    # Функция для расчета кривых обучения.\n",
    "    # Принимает на вход X_train - матрицу данных обучющего набора,\n",
    "    # y_train - вектор целевой переменной обучающего набора, X_val - матрицу данных валидационного набора,\n",
    "    # y_val - вектор целевой переменной валидационного набора, lamb - параметр решуляризации.\n",
    "\n",
    "    m, n = X_train.shape  # количество примеров в выборке и признаков в примере соответственно.\n",
    "    result = list()  # список значений кривых обучения.\n",
    "    init_Theta = np.ones(len(X_train[0]))\n",
    "    for i in range(1, m):\n",
    "        \n",
    "        a,Theta = train_linear_regression(X_train[:i, :], y_train[:i], init_Theta, lamb)\n",
    "        \n",
    "        train_error = compute_cost(X_train[:i, :], y_train[:i], Theta, lamb)  # значение функции стоимости на i примерах обучающего набора.\n",
    "        val_error = compute_cost(X_val, y_val, Theta, lamb)  # значение функции стоимости на всем валидационном наборе.\n",
    "\n",
    "        result.append((train_error, val_error))\n",
    "\n",
    "    return result"
   ]
  },
  {
   "cell_type": "code",
   "execution_count": 11,
   "metadata": {},
   "outputs": [
    {
     "data": {
      "image/png": "[encoded data removed]",
      "text/plain": [
       "<Figure size 432x288 with 1 Axes>"
      ]
     },
     "metadata": {
      "needs_background": "light"
     },
     "output_type": "display_data"
    }
   ],
   "source": [
    "# Загрузка данных\n",
    "X_train, y_train = load_data('lab4data1.txt')\n",
    "X_val, y_val = load_data('lab4data2.txt')\n",
    "X_test, y_test = load_data('lab4data3.txt')\n",
    "\n",
    "plt.title('Обучающий набор')\n",
    "plt.scatter(X_train[:, 1], y_train, c='r', marker='x')\n",
    "plt.show()\n",
    "\n",
    "init_theta = np.array([1, 1])\n",
    "init_lamb = 1.0"
   ]
  },
  {
   "cell_type": "code",
   "execution_count": 12,
   "metadata": {},
   "outputs": [
    {
     "name": "stdout",
     "output_type": "stream",
     "text": [
      "Значение функции стоимости при theta = [1, 1], lamb = 1.0 (должно быть ~303.993):  303.9931922202643\n",
      "Значение градиента функции стоимости при theta = [1, 1], lamb = 1.0 (должно быть ~[-15.30, 598.25]):  [-15.30301567 598.16741084]\n"
     ]
    }
   ],
   "source": [
    "\n",
    "print('Значение функции стоимости при theta = [1, 1], lamb = 1.0 (должно быть ~303.993): ',\n",
    "      compute_cost(X_train, y_train, init_theta, init_lamb))\n",
    "\n",
    "print('Значение градиента функции стоимости при theta = [1, 1], lamb = 1.0 (должно быть ~[-15.30, 598.25]): ',\n",
    "      compute_cost_grad(X_train, y_train, init_theta, init_lamb))"
   ]
  },
  {
   "cell_type": "code",
   "execution_count": 13,
   "metadata": {},
   "outputs": [
    {
     "name": "stdout",
     "output_type": "stream",
     "text": [
      "\n",
      "Обучение модели линейной регрессии..\n",
      "Минимизация функции стоимости прошла успешно.\n"
     ]
    },
    {
     "data": {
      "image/png": "[encoded data removed]",
      "text/plain": [
       "<Figure size 432x288 with 1 Axes>"
      ]
     },
     "metadata": {
      "needs_background": "light"
     },
     "output_type": "display_data"
    }
   ],
   "source": [
    "print()\n",
    "print('Обучение модели линейной регрессии..')\n",
    "\n",
    "success, opt_theta = train_linear_regression(X_train, y_train, init_theta, init_lamb)\n",
    "print('Минимизация функции стоимости ' + ('прошла успешно.' if success else 'не удалась.'))\n",
    "\n",
    "plt.title('Обученая модель при lamb = 1.0')\n",
    "plt.scatter(X_train[:, 1], y_train, c='r', marker='x')\n",
    "plt.plot(X_train[:, 1], compute_hypothesis(X_train, opt_theta))\n",
    "plt.show()"
   ]
  },
  {
   "cell_type": "code",
   "execution_count": 14,
   "metadata": {},
   "outputs": [
    {
     "data": {
      "image/png": "[encoded data removed]",
      "text/plain": [
       "<Figure size 432x288 with 1 Axes>"
      ]
     },
     "metadata": {
      "needs_background": "light"
     },
     "output_type": "display_data"
    }
   ],
   "source": [
    "lin_learning_curves = compute_learning_curves(X_train, y_train, X_val, y_val, 0.0)\n",
    "show_learning_curves(lin_learning_curves)"
   ]
  },
  {
   "cell_type": "code",
   "execution_count": 15,
   "metadata": {},
   "outputs": [
    {
     "name": "stdout",
     "output_type": "stream",
     "text": [
      "\n",
      "Обучение модели полно миальной регрессии..\n",
      "Минимизация функции стоимости прошла успешно.\n"
     ]
    },
    {
     "data": {
      "image/png": "[encoded data removed]",
      "text/plain": [
       "<Figure size 432x288 with 1 Axes>"
      ]
     },
     "metadata": {
      "needs_background": "light"
     },
     "output_type": "display_data"
    }
   ],
   "source": [
    "poly_pow = 8  # степень полинома для полиномиальной регрессии, можно варьировать\n",
    "poly_lamb = 0.0  # параметр регуляризации для полиномиальной регрессии, можно варьировать\n",
    "\n",
    "X_train_poly, (mean, std) = scale_features(map_features(X_train, poly_pow))\n",
    "X_val_poly = scale_features(map_features(X_val, poly_pow))[0]\n",
    "\n",
    "X_plot_poly = np.array([[i ** p for p in range(poly_pow + 1)] for i in range(-50, 40)], dtype=float)\n",
    "X_plot_poly[:, 1:] = (X_plot_poly[:, 1:] - mean) / std\n",
    "\n",
    "print()\n",
    "print('Обучение модели полно миальной регрессии..')\n",
    "\n",
    "success, opt_theta = train_linear_regression(X_train_poly, y_train, np.zeros(X_train_poly.shape[1]), poly_lamb)\n",
    "print('Минимизация функции стоимости ' + ('прошла успешно.' if success else 'не удалась.'))\n",
    "\n",
    "plt.title('Обученая модель при lamb = ' + str(poly_lamb))\n",
    "plt.scatter(X_train_poly[:, 1], y_train, c='r', marker='x')\n",
    "plt.scatter(X_val_poly[:, 1], y_val, c='b', marker='x')\n",
    "plt.plot(X_plot_poly[:, 1], compute_hypothesis(X_plot_poly, opt_theta))\n",
    "plt.show()"
   ]
  },
  {
   "cell_type": "code",
   "execution_count": 16,
   "metadata": {},
   "outputs": [
    {
     "data": {
      "image/png": "[encoded data removed]",
      "text/plain": [
       "<Figure size 432x288 with 1 Axes>"
      ]
     },
     "metadata": {
      "needs_background": "light"
     },
     "output_type": "display_data"
    },
    {
     "name": "stdout",
     "output_type": "stream",
     "text": [
      "\n",
      "Оценка качества модели на тестовом наборе: 17.139941116489922\n"
     ]
    }
   ],
   "source": [
    "poly_learning_curves = compute_learning_curves(X_train_poly, y_train, X_val_poly, y_val, poly_lamb)\n",
    "show_learning_curves(poly_learning_curves)\n",
    "\n",
    "X_test = map_features(X_test, poly_pow)\n",
    "X_test[:, 1:] = (X_test[:, 1:] - mean) / std\n",
    "\n",
    "print()\n",
    "print('Оценка качества модели на тестовом наборе:', compute_cost(X_test, y_test, opt_theta, 0.0))\n"
   ]
  },
  {
   "cell_type": "code",
   "execution_count": null,
   "metadata": {},
   "outputs": [],
   "source": []
  },
  {
   "cell_type": "code",
   "execution_count": null,
   "metadata": {},
   "outputs": [],
   "source": []
  },
  {
   "cell_type": "code",
   "execution_count": null,
   "metadata": {},
   "outputs": [],
   "source": [
    "opt_theta"
   ]
  },
  {
   "cell_type": "code",
   "execution_count": null,
   "metadata": {},
   "outputs": [],
   "source": []
  },
  {
   "cell_type": "code",
   "execution_count": null,
   "metadata": {},
   "outputs": [],
   "source": []
  },
  {
   "cell_type": "code",
   "execution_count": null,
   "metadata": {},
   "outputs": [],
   "source": [
    "X_train[[0]].shape"
   ]
  },
  {
   "cell_type": "code",
   "execution_count": null,
   "metadata": {},
   "outputs": [],
   "source": [
    "opt_theta.shape"
   ]
  },
  {
   "cell_type": "code",
   "execution_count": null,
   "metadata": {},
   "outputs": [],
   "source": [
    "init_theta[[0]]"
   ]
  },
  {
   "cell_type": "code",
   "execution_count": null,
   "metadata": {},
   "outputs": [],
   "source": [
    "opt_theta[[0,]].shape\n"
   ]
  },
  {
   "cell_type": "code",
   "execution_count": null,
   "metadata": {},
   "outputs": [],
   "source": []
  },
  {
   "cell_type": "code",
   "execution_count": null,
   "metadata": {},
   "outputs": [],
   "source": [
    "m, n = X_train.shape\n",
    "range(1, m)"
   ]
  },
  {
   "cell_type": "code",
   "execution_count": null,
   "metadata": {},
   "outputs": [],
   "source": []
  }
 ],
 "metadata": {
  "kernelspec": {
   "display_name": "Python 3",
   "language": "python",
   "name": "python3"
  },
  "language_info": {
   "codemirror_mode": {
    "name": "ipython",
    "version": 3
   },
   "file_extension": ".py",
   "mimetype": "text/x-python",
   "name": "python",
   "nbconvert_exporter": "python",
   "pygments_lexer": "ipython3",
   "version": "3.7.4"
  }
 },
 "nbformat": 4,
 "nbformat_minor": 2
}
