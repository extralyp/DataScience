{
 "cells": [
  {
   "cell_type": "code",
   "execution_count": 1,
   "metadata": {},
   "outputs": [],
   "source": [
    "import numpy as np\n",
    "from matplotlib import pyplot as plt"
   ]
  },
  {
   "cell_type": "code",
   "execution_count": 2,
   "metadata": {},
   "outputs": [],
   "source": [
    "def compute_hypothesis(X, theta):\n",
    "    return X @ theta"
   ]
  },
  {
   "cell_type": "code",
   "execution_count": 3,
   "metadata": {},
   "outputs": [],
   "source": [
    "def compute_cost(X, y, theta):\n",
    "    m = X.shape[0]  # количество примеров в выборке\n",
    "    return 1 / (2 * m) * sum((compute_hypothesis(X, theta) - y) ** 2)\n"
   ]
  },
  {
   "cell_type": "code",
   "execution_count": 4,
   "metadata": {},
   "outputs": [],
   "source": [
    "def gradient_descend(X, y, theta, alpha, num_iter):\n",
    "    history = list()\n",
    "    m = X.shape[0]  # количество примеров в выборке\n",
    "    n = X.shape[1]  # количество признаков с фиктивным\n",
    "    for i in range(num_iter):\n",
    "        theta_temp = theta\n",
    "        for j in range(len(theta)):\n",
    "            theta_temp[j] = theta_temp[j] - alpha * (compute_hypothesis(X, theta) - y).dot(X[:, j]) / m\n",
    "        theta = theta_temp\n",
    "        history.append(compute_cost(X, y, theta))\n",
    "    return history, theta"
   ]
  },
  {
   "cell_type": "code",
   "execution_count": 5,
   "metadata": {},
   "outputs": [],
   "source": [
    "def scale_features(X):\n",
    "    m = X.shape[0]\n",
    "    n = X.shape[1] - 1\n",
    "\n",
    "    X = X[:, 1:]\n",
    "    for i in range(n):\n",
    "        X[:, i] = (X[:, i] - np.mean(X, axis=0)[i])/np.std(X, axis=0)[i]\n",
    "    X = np.hstack((np.ones((m, 1)), X))\n",
    "    return X\n"
   ]
  },
  {
   "cell_type": "code",
   "execution_count": 6,
   "metadata": {},
   "outputs": [],
   "source": [
    "def normal_equation(X, y):\n",
    "    theta = np.linalg.pinv(X.T @ X) @ X.T @ y\n",
    "    return theta\n"
   ]
  },
  {
   "cell_type": "code",
   "execution_count": 7,
   "metadata": {},
   "outputs": [],
   "source": [
    "def load_data(data_file_path):\n",
    "    with open(data_file_path) as input_file:\n",
    "        X = list()\n",
    "        y = list()\n",
    "        for line in input_file:\n",
    "            *row, label = map(float, line.split(','))\n",
    "            X.append([1] + row)\n",
    "            y.append(label)\n",
    "        return np.array(X, float), np.array(y, float)"
   ]
  },
  {
   "cell_type": "code",
   "execution_count": null,
   "metadata": {},
   "outputs": [],
   "source": [
    "X, y = load_data('lab1data2.txt')\n",
    "\n",
    "history, theta = gradient_descend(X, y, np.array([0, 0, 0], float), 0.01, 10)\n",
    "\n",
    "plt.title('График изменения функции стоимости от номера итерации до нормализации')\n",
    "plt.plot(range(len(history)), history)\n",
    "plt.show()"
   ]
  },
  {
   "cell_type": "code",
   "execution_count": 8,
   "metadata": {},
   "outputs": [
    {
     "data": {
      "image/png": "[encoded data removed]",
      "text/plain": [
       "<Figure size 432x288 with 1 Axes>"
      ]
     },
     "metadata": {
      "needs_background": "light"
     },
     "output_type": "display_data"
    },
    {
     "data": {
      "image/png": "[encoded data removed]",
      "text/plain": [
       "<Figure size 432x288 with 1 Axes>"
      ]
     },
     "metadata": {
      "needs_background": "light"
     },
     "output_type": "display_data"
    },
    {
     "name": "stdout",
     "output_type": "stream",
     "text": [
      "theta, посчитанные через градиентный спуск: [340412.56301439 109371.67272252  -6502.3992545 ],\n",
      " через нормальное уравнение: [340412.65957447 109447.79646964  -6578.35485416]\n"
     ]
    }
   ],
   "source": [
    "X = scale_features(X)\n",
    "\n",
    "history, theta = gradient_descend(X, y, np.array([0, 0, 0], float), 0.01, 1500)\n",
    "\n",
    "plt.title('График изменения функции стоимости от номера итерации после нормализации')\n",
    "plt.plot(range(len(history)), history)\n",
    "plt.show()\n",
    "\n",
    "theta_solution = normal_equation(X, y)\n",
    "print(f'theta, посчитанные через градиентный спуск: {theta},\\n через нормальное уравнение: {theta_solution}')"
   ]
  },
  {
   "cell_type": "code",
   "execution_count": null,
   "metadata": {},
   "outputs": [],
   "source": []
  },
  {
   "cell_type": "code",
   "execution_count": null,
   "metadata": {},
   "outputs": [],
   "source": []
  },
  {
   "cell_type": "code",
   "execution_count": null,
   "metadata": {},
   "outputs": [],
   "source": []
  },
  {
   "cell_type": "code",
   "execution_count": null,
   "metadata": {},
   "outputs": [],
   "source": []
  }
 ],
 "metadata": {
  "kernelspec": {
   "display_name": "Python 3",
   "language": "python",
   "name": "python3"
  },
  "language_info": {
   "codemirror_mode": {
    "name": "ipython",
    "version": 3
   },
   "file_extension": ".py",
   "mimetype": "text/x-python",
   "name": "python",
   "nbconvert_exporter": "python",
   "pygments_lexer": "ipython3",
   "version": "3.7.4"
  }
 },
 "nbformat": 4,
 "nbformat_minor": 2
}
