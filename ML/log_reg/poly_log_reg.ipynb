{
 "cells": [
  {
   "cell_type": "code",
   "execution_count": 29,
   "metadata": {},
   "outputs": [],
   "source": [
    "import numpy as np\n",
    "from scipy.optimize import minimize\n",
    "from matplotlib import pyplot as plt"
   ]
  },
  {
   "cell_type": "code",
   "execution_count": 30,
   "metadata": {},
   "outputs": [],
   "source": [
    "\n",
    "def map_features(X):\n",
    "    result = list()\n",
    "    for k in range(X.shape[0] if len(X.shape) == 2 else 1):\n",
    "        vec = list(X[k, :] if len(X.shape) == 2 else X)\n",
    "        for i in range(2, 7):\n",
    "            for j in range(i + 1):\n",
    "                vec.append(vec[1] ** j * vec[2] ** (i - j))\n",
    "        result.append(vec)\n",
    "    return np.array(result)"
   ]
  },
  {
   "cell_type": "code",
   "execution_count": 31,
   "metadata": {},
   "outputs": [],
   "source": [
    "def logistic(z):\n",
    "    result = 1 / (1 + (np.e ** (-z)))\n",
    "    return result"
   ]
  },
  {
   "cell_type": "code",
   "execution_count": 32,
   "metadata": {},
   "outputs": [],
   "source": [
    "def compute_cost_reg(X, y, theta, lamb):\n",
    "    m, n = X.shape  # m - количество примеров в выборке, n - количество признаков у каждого примера\n",
    "    cost = (sum(y * (np.log(logistic(X @ theta))) + (1 - y) * np.log(1 - logistic(X @ theta))) / (-1 * m)) + (lamb * sum(theta**2))\n",
    "    return cost"
   ]
  },
  {
   "cell_type": "code",
   "execution_count": 33,
   "metadata": {},
   "outputs": [],
   "source": [
    "def compute_cost_grad_reg(X, y, theta, lamb):\n",
    "    m, n = X.shape  # m - количество примеров в выборке, n - количество признаков у каждого примера\n",
    "    grad = (((logistic(X @ theta) - y) @ X) / m) + (2 * lamb * theta)\n",
    "    return np.array(grad)"
   ]
  },
  {
   "cell_type": "code",
   "execution_count": 34,
   "metadata": {},
   "outputs": [],
   "source": [
    "def load_data(data_file_path):\n",
    "    with open(data_file_path) as input_file:\n",
    "        X = list()\n",
    "        y = list()\n",
    "        for line in input_file:\n",
    "            *row, label = map(float, line.split(','))\n",
    "            X.append([1] + row)\n",
    "            y.append(label)\n",
    "        return np.array(X, float), np.array(y, float)"
   ]
  },
  {
   "cell_type": "code",
   "execution_count": 39,
   "metadata": {},
   "outputs": [
    {
     "name": "stdout",
     "output_type": "stream",
     "text": [
      "logistic(0) = 0.5 (должно быть 0.5)\n",
      "logistic(-10) = 4.539786870243442e-05 (должно быть ~0)\n",
      "logistic(10) = 0.9999546021312976 (должно быть ~1)\n"
     ]
    },
    {
     "data": {
      "image/png": "[encoded data removed]",
      "text/plain": [
       "<Figure size 432x288 with 1 Axes>"
      ]
     },
     "metadata": {
      "needs_background": "light"
     },
     "output_type": "display_data"
    }
   ],
   "source": [
    "X, y = load_data('lab2data2.txt')\n",
    "\n",
    "X = map_features(X)\n",
    "\n",
    "print(f'logistic(0) = {logistic(np.array(0))} (должно быть 0.5)\\n'\n",
    "      f'logistic(-10) = {logistic(np.array(-10))} (должно быть ~0)\\n'\n",
    "      f'logistic(10) = {logistic(np.array(10))} (должно быть ~1)')\n",
    "\n",
    "plt.title('Исходные данные')\n",
    "plt.scatter(X[y == 0][:, 1], X[y == 0][:, 2], c='r', marker='o')\n",
    "plt.scatter(X[y == 1][:, 1], X[y == 1][:, 2], c='g', marker='x')\n",
    "plt.show()"
   ]
  },
  {
   "cell_type": "code",
   "execution_count": 40,
   "metadata": {},
   "outputs": [
    {
     "name": "stdout",
     "output_type": "stream",
     "text": [
      "Функция стоимости при начальном theta = 0.6931471805599461\n",
      "Минимизация функции стоимости прошла успешно.\n",
      "Функция стоимости при оптимальном theta = 0.5461213643702922\n"
     ]
    }
   ],
   "source": [
    "lamb = 0.005\n",
    "init_theta = np.zeros((X.shape[1], 1))\n",
    "cost0 = compute_cost_reg(X, y, init_theta, lamb)\n",
    "print(f'Функция стоимости при начальном theta = {cost0[0]}')\n",
    "\n",
    "opt_theta_obj = minimize(lambda th: compute_cost_reg(X, y, th, lamb), init_theta,\n",
    "                         method='CG',\n",
    "                         jac=lambda th: compute_cost_grad_reg(X, y, th, lamb),\n",
    "                         options={'gtol': 1e-5, 'maxiter': 1500, 'disp': False})\n",
    "\n",
    "\n",
    "print('Минимизация функции стоимости ' + ('прошла успешно.' if opt_theta_obj.success else 'не удалась.'))\n",
    "opt_theta = opt_theta_obj.x\n",
    "\n",
    "opt_cost = compute_cost_reg(X, y, opt_theta, lamb)\n",
    "print(f'Функция стоимости при оптимальном theta = {opt_cost}' )"
   ]
  },
  {
   "cell_type": "code",
   "execution_count": 41,
   "metadata": {},
   "outputs": [
    {
     "data": {
      "image/png": "[encoded data removed]",
      "text/plain": [
       "<Figure size 432x288 with 2 Axes>"
      ]
     },
     "metadata": {
      "needs_background": "light"
     },
     "output_type": "display_data"
    }
   ],
   "source": [
    "hm = np.zeros((80, 80))\n",
    "for i in range(80):\n",
    "    for j in range(80):\n",
    "        hm[i, j] = round(logistic(opt_theta @ map_features(np.array([1, j / 20 - 2, i / 20 - 2])).transpose())[0])\n",
    "c = plt.pcolor(np.arange(-2, 2, 0.05), np.arange(-2, 2, 0.05), hm, cmap='Greys')\n",
    "plt.colorbar(c)\n",
    "\n",
    "plt.title('Построенная граница решений')\n",
    "plt.scatter(X[y == 0][:, 1], X[y == 0][:, 2], c='r', marker='o')\n",
    "plt.scatter(X[y == 1][:, 1], X[y == 1][:, 2], c='g', marker='x')\n",
    "plt.show()"
   ]
  },
  {
   "cell_type": "code",
   "execution_count": null,
   "metadata": {},
   "outputs": [],
   "source": []
  },
  {
   "cell_type": "code",
   "execution_count": null,
   "metadata": {},
   "outputs": [],
   "source": []
  },
  {
   "cell_type": "code",
   "execution_count": null,
   "metadata": {},
   "outputs": [],
   "source": []
  }
 ],
 "metadata": {
  "kernelspec": {
   "display_name": "Python 3",
   "language": "python",
   "name": "python3"
  },
  "language_info": {
   "codemirror_mode": {
    "name": "ipython",
    "version": 3
   },
   "file_extension": ".py",
   "mimetype": "text/x-python",
   "name": "python",
   "nbconvert_exporter": "python",
   "pygments_lexer": "ipython3",
   "version": "3.7.4"
  }
 },
 "nbformat": 4,
 "nbformat_minor": 2
}
