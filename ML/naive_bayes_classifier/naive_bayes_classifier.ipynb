{
 "cells": [
  {
   "cell_type": "code",
   "execution_count": 360,
   "metadata": {},
   "outputs": [],
   "source": [
    "import pandas as pd"
   ]
  },
  {
   "cell_type": "code",
   "execution_count": 361,
   "metadata": {},
   "outputs": [],
   "source": [
    "data= {'сладкий': [60,90,70,10],\n",
    "       'круглый': [0,70,80,50],\n",
    "       'кислый': [50,10,30,90],\n",
    "       'желтый': [90,5,30,80],\n",
    "       'кол-во фруктов':[100,100,100,100]\n",
    "       }"
   ]
  },
  {
   "cell_type": "code",
   "execution_count": 362,
   "metadata": {},
   "outputs": [
    {
     "data": {
      "text/html": [
       "<div>\n",
       "<style scoped>\n",
       "    .dataframe tbody tr th:only-of-type {\n",
       "        vertical-align: middle;\n",
       "    }\n",
       "\n",
       "    .dataframe tbody tr th {\n",
       "        vertical-align: top;\n",
       "    }\n",
       "\n",
       "    .dataframe thead th {\n",
       "        text-align: right;\n",
       "    }\n",
       "</style>\n",
       "<table border=\"1\" class=\"dataframe\">\n",
       "  <thead>\n",
       "    <tr style=\"text-align: right;\">\n",
       "      <th></th>\n",
       "      <th>сладкий</th>\n",
       "      <th>круглый</th>\n",
       "      <th>кислый</th>\n",
       "      <th>желтый</th>\n",
       "      <th>кол-во фруктов</th>\n",
       "    </tr>\n",
       "  </thead>\n",
       "  <tbody>\n",
       "    <tr>\n",
       "      <td>банан</td>\n",
       "      <td>60</td>\n",
       "      <td>0</td>\n",
       "      <td>50</td>\n",
       "      <td>90</td>\n",
       "      <td>100</td>\n",
       "    </tr>\n",
       "    <tr>\n",
       "      <td>арбуз</td>\n",
       "      <td>90</td>\n",
       "      <td>70</td>\n",
       "      <td>10</td>\n",
       "      <td>5</td>\n",
       "      <td>100</td>\n",
       "    </tr>\n",
       "    <tr>\n",
       "      <td>апельсин</td>\n",
       "      <td>70</td>\n",
       "      <td>80</td>\n",
       "      <td>30</td>\n",
       "      <td>30</td>\n",
       "      <td>100</td>\n",
       "    </tr>\n",
       "    <tr>\n",
       "      <td>лимон</td>\n",
       "      <td>10</td>\n",
       "      <td>50</td>\n",
       "      <td>90</td>\n",
       "      <td>80</td>\n",
       "      <td>100</td>\n",
       "    </tr>\n",
       "    <tr>\n",
       "      <td>всего</td>\n",
       "      <td>230</td>\n",
       "      <td>200</td>\n",
       "      <td>180</td>\n",
       "      <td>205</td>\n",
       "      <td>400</td>\n",
       "    </tr>\n",
       "  </tbody>\n",
       "</table>\n",
       "</div>"
      ],
      "text/plain": [
       "          сладкий  круглый  кислый  желтый  кол-во фруктов\n",
       "банан          60        0      50      90             100\n",
       "арбуз          90       70      10       5             100\n",
       "апельсин       70       80      30      30             100\n",
       "лимон          10       50      90      80             100\n",
       "всего         230      200     180     205             400"
      ]
     },
     "execution_count": 362,
     "metadata": {},
     "output_type": "execute_result"
    }
   ],
   "source": [
    "df=pd.DataFrame(data,columns=['сладкий','круглый','кислый','желтый','кол-во фруктов'], \n",
    "                     index=['банан','арбуз','апельсин','лимон'])\n",
    "df.loc['всего'] = df.sum()\n",
    "    \n",
    "df"
   ]
  },
  {
   "cell_type": "code",
   "execution_count": 363,
   "metadata": {},
   "outputs": [
    {
     "name": "stdout",
     "output_type": "stream",
     "text": [
      "Класс бананы: 0.0\n",
      "Класс арбузы: 0.00018557794273594907\n",
      "Класс апельсины: 0.0029692470837751855\n",
      "Класс лимоны: 0.0021208907741251328\n"
     ]
    }
   ],
   "source": [
    "banana=(df['сладкий'][0]/df.loc['всего'][0])*(df['круглый'][0]/df.loc['всего'][1])*(df['кислый'][0]/df.loc['всего'][2])*(df['желтый'][0]/df.loc['всего'][3])\n",
    "watermelon=(df['сладкий'][1]/df.loc['всего'][0])*(df['круглый'][1]/df.loc['всего'][1])*(df['кислый'][1]/df.loc['всего'][2])*(df['желтый'][1]/df.loc['всего'][3])\n",
    "orange=(df['сладкий'][2]/df.loc['всего'][0])*(df['круглый'][2]/df.loc['всего'][1])*(df['кислый'][2]/df.loc['всего'][2])*(df['желтый'][2]/df.loc['всего'][3])\n",
    "limon=(df['сладкий'][3]/df.loc['всего'][0])*(df['круглый'][3]/df.loc['всего'][1])*(df['кислый'][3]/df.loc['всего'][2])*(df['желтый'][3]/df.loc['всего'][3])\n",
    "\n",
    "print('Класс бананы:',banana)\n",
    "print('Класс арбузы:',watermelon)\n",
    "print('Класс апельсины:',orange)\n",
    "print('Класс лимоны:',limon)"
   ]
  },
  {
   "cell_type": "code",
   "execution_count": 368,
   "metadata": {},
   "outputs": [],
   "source": [
    "def prediction(sweet,roundly,sour,yellow):\n",
    "    prediction=[(sweet/df.loc['всего'][0])*(roundly/df.loc['всего'][1])*(sour/df.loc['всего'][2])*(yellow/df.loc['всего'][3])]\n",
    "    if prediction >= orange:\n",
    "        print(\"Класс апельсинов\")\n",
    "    elif prediction < orange and prediction >= limon:\n",
    "        print(\"Класс лимонов\")\n",
    "    elif prediction < limon and prediction >= watermelon:\n",
    "        print(\"Класс арбузов\")\n",
    "    elif prediction < watermelon and prediction >= banana:\n",
    "        print(\"Класс бананов\")\n",
    "    print(\"Предик:\",prediction)\n",
    "    print('\\n')"
   ]
  },
  {
   "cell_type": "code",
   "execution_count": 369,
   "metadata": {},
   "outputs": [
    {
     "name": "stdout",
     "output_type": "stream",
     "text": [
      "Класс бананов\n",
      "Предик: [0.0]\n",
      "\n",
      "\n",
      "Класс арбузов\n",
      "Предик: [0.0004713090609166961]\n",
      "\n",
      "\n",
      "Класс апельсинов\n",
      "Предик: [0.0030163779898668554]\n",
      "\n",
      "\n",
      "Класс лимонов\n",
      "Предик: [0.002545068928950159]\n",
      "\n",
      "\n"
     ]
    }
   ],
   "source": [
    "prediction(80,0,10,80)\n",
    "prediction(20,50,10,80)\n",
    "prediction(80,80,10,80)\n",
    "prediction(10,60,90,80)"
   ]
  },
  {
   "cell_type": "code",
   "execution_count": null,
   "metadata": {},
   "outputs": [],
   "source": []
  },
  {
   "cell_type": "code",
   "execution_count": null,
   "metadata": {},
   "outputs": [],
   "source": []
  }
 ],
 "metadata": {
  "kernelspec": {
   "display_name": "Python 3",
   "language": "python",
   "name": "python3"
  },
  "language_info": {
   "codemirror_mode": {
    "name": "ipython",
    "version": 3
   },
   "file_extension": ".py",
   "mimetype": "text/x-python",
   "name": "python",
   "nbconvert_exporter": "python",
   "pygments_lexer": "ipython3",
   "version": "3.7.4"
  }
 },
 "nbformat": 4,
 "nbformat_minor": 2
}
