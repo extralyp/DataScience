{
 "cells": [
  {
   "cell_type": "code",
   "execution_count": 1,
   "metadata": {},
   "outputs": [
    {
     "name": "stdout",
     "output_type": "stream",
     "text": [
      "Populating the interactive namespace from numpy and matplotlib\n"
     ]
    }
   ],
   "source": [
    "import numpy as np\n",
    "import pandas as pd\n",
    "import scipy\n",
    "\n",
    "from statsmodels.stats.weightstats import _zconfint_generic, _tconfint_generic\n",
    "from statsmodels.stats.proportion import proportion_confint\n",
    "\n",
    "%pylab inline"
   ]
  },
  {
   "cell_type": "markdown",
   "metadata": {},
   "source": [
    "# На основе того же набора данных требуется\n",
    " \n",
    "1. Построить предсказательные интервалы для ежемесячного дохода и запрошенной суммы (в предположении логнормальности)\n",
    "2. Определить для каждого признака, разделяет ли он риски. Т.е. надо строить доверительные интервалы для **approved_flg** по каждому признаку. *Подсказка:* для бинарных признаков можно строить интервалы на разность долей, для вещественных признаков - используйте разбивки на бакеты (группы равного размера) и сравнивайте полученные интервалы между этими группами. Попробуйте визуализировать результаты (для вещественных признаков).\n",
    "3. Введите бинарный признак (какая сумма больше - запрошенная или ежемесячная зарплата) - оцените точечно и интервально шансы (odds) одобрения в зависимости от этого признака $$\\text{odds: } \\frac{p}{1-p}$$ Постройте также интервал для отношения шансов на этих выборках. *Подсказка:* используйте бутстреп.\n",
    " "
   ]
  },
  {
   "cell_type": "code",
   "execution_count": 2,
   "metadata": {},
   "outputs": [],
   "source": [
    "df = pd.read_csv('data.csv', sep=',')"
   ]
  },
  {
   "cell_type": "code",
   "execution_count": 3,
   "metadata": {
    "scrolled": true
   },
   "outputs": [
    {
     "data": {
      "text/html": [
       "<div>\n",
       "<style scoped>\n",
       "    .dataframe tbody tr th:only-of-type {\n",
       "        vertical-align: middle;\n",
       "    }\n",
       "\n",
       "    .dataframe tbody tr th {\n",
       "        vertical-align: top;\n",
       "    }\n",
       "\n",
       "    .dataframe thead th {\n",
       "        text-align: right;\n",
       "    }\n",
       "</style>\n",
       "<table border=\"1\" class=\"dataframe\">\n",
       "  <thead>\n",
       "    <tr style=\"text-align: right;\">\n",
       "      <th></th>\n",
       "      <th>id</th>\n",
       "      <th>required_amt</th>\n",
       "      <th>installment_flg</th>\n",
       "      <th>monthly_income_amt</th>\n",
       "      <th>age</th>\n",
       "      <th>has_high_education_flg</th>\n",
       "      <th>approved_flg</th>\n",
       "    </tr>\n",
       "  </thead>\n",
       "  <tbody>\n",
       "    <tr>\n",
       "      <td>0</td>\n",
       "      <td>1</td>\n",
       "      <td>23906.0</td>\n",
       "      <td>0</td>\n",
       "      <td>80000</td>\n",
       "      <td>37</td>\n",
       "      <td>0</td>\n",
       "      <td>0</td>\n",
       "    </tr>\n",
       "    <tr>\n",
       "      <td>1</td>\n",
       "      <td>2</td>\n",
       "      <td>13111.0</td>\n",
       "      <td>1</td>\n",
       "      <td>43000</td>\n",
       "      <td>22</td>\n",
       "      <td>0</td>\n",
       "      <td>0</td>\n",
       "    </tr>\n",
       "    <tr>\n",
       "      <td>2</td>\n",
       "      <td>3</td>\n",
       "      <td>43266.0</td>\n",
       "      <td>1</td>\n",
       "      <td>20000</td>\n",
       "      <td>34</td>\n",
       "      <td>0</td>\n",
       "      <td>0</td>\n",
       "    </tr>\n",
       "    <tr>\n",
       "      <td>3</td>\n",
       "      <td>4</td>\n",
       "      <td>68782.0</td>\n",
       "      <td>1</td>\n",
       "      <td>35000</td>\n",
       "      <td>24</td>\n",
       "      <td>0</td>\n",
       "      <td>0</td>\n",
       "    </tr>\n",
       "    <tr>\n",
       "      <td>4</td>\n",
       "      <td>5</td>\n",
       "      <td>19550.0</td>\n",
       "      <td>1</td>\n",
       "      <td>25000</td>\n",
       "      <td>42</td>\n",
       "      <td>1</td>\n",
       "      <td>0</td>\n",
       "    </tr>\n",
       "  </tbody>\n",
       "</table>\n",
       "</div>"
      ],
      "text/plain": [
       "   id  required_amt  installment_flg  monthly_income_amt  age  \\\n",
       "0   1       23906.0                0               80000   37   \n",
       "1   2       13111.0                1               43000   22   \n",
       "2   3       43266.0                1               20000   34   \n",
       "3   4       68782.0                1               35000   24   \n",
       "4   5       19550.0                1               25000   42   \n",
       "\n",
       "   has_high_education_flg  approved_flg  \n",
       "0                       0             0  \n",
       "1                       0             0  \n",
       "2                       0             0  \n",
       "3                       0             0  \n",
       "4                       1             0  "
      ]
     },
     "execution_count": 3,
     "metadata": {},
     "output_type": "execute_result"
    }
   ],
   "source": [
    "df.head()"
   ]
  },
  {
   "cell_type": "markdown",
   "metadata": {},
   "source": [
    "* id - идентификатор заявки на получение кредита на товар/услугу\n",
    "* required_amt - запрошенная сумма кредита\n",
    "* installment_flg - флаг промо продукта\n",
    "* monthly_income_amt - ежемесячный доход заявителя\n",
    "* age - возраст заявителя\n",
    "* has_high_education_flg - наличие высшего образования\n",
    "* approved_flg - одобрил ли банк заявку"
   ]
  },
  {
   "cell_type": "markdown",
   "metadata": {},
   "source": [
    "# 1 пункт"
   ]
  },
  {
   "cell_type": "code",
   "execution_count": 4,
   "metadata": {},
   "outputs": [],
   "source": [
    "required_amt_norm=np.log(df.required_amt)\n",
    "monthly_income_amt_norm=np.log(df.monthly_income_amt)\n"
   ]
  },
  {
   "cell_type": "code",
   "execution_count": 5,
   "metadata": {},
   "outputs": [
    {
     "name": "stdout",
     "output_type": "stream",
     "text": [
      "monthly_income_amt 99% Prediction interval: [9,174.69 - 169,934.87]\n",
      "required_amt 99% Prediction interval: [4,214.31 - 197,612.36]\n"
     ]
    }
   ],
   "source": [
    "monthly_income_conf_int = _tconfint_generic(monthly_income_amt_norm.mean(),\n",
    "                                            monthly_income_amt_norm.std(ddof=1),\n",
    "                                            len(df) - 1,\n",
    "                                            0.01,\n",
    "                                            'two-sided')\n",
    "required_conf_int = _tconfint_generic(required_amt_norm.mean(),\n",
    "                                      required_amt_norm.std(ddof=1),\n",
    "                                      len(df) - 1,\n",
    "                                      0.01,\n",
    "                                      'two-sided')\n",
    "\n",
    "print(f'monthly_income_amt 99% Prediction interval: [{np.exp(monthly_income_conf_int)[0]:,.2f} - {np.exp(monthly_income_conf_int)[1]:,.2f}]')\n",
    "print(f'required_amt 99% Prediction interval: [{np.exp(required_conf_int)[0]:,.2f} - {np.exp(required_conf_int)[1]:,.2f}]')"
   ]
  },
  {
   "cell_type": "markdown",
   "metadata": {},
   "source": [
    "# 2 пункт\n",
    "### Бинарные признаки"
   ]
  },
  {
   "cell_type": "code",
   "execution_count": 6,
   "metadata": {},
   "outputs": [],
   "source": [
    "def proportions_confint_diff_ind(sample1, sample2, alpha = 0.01):\n",
    "    '''Считает доверительный интервал для разности долей в независимых выборках'''\n",
    "    z = scipy.stats.norm.ppf(1 - alpha / 2.)\n",
    "    p1 = float(sum(sample1)) / len(sample1)\n",
    "    p2 = float(sum(sample2)) / len(sample2)\n",
    "    sigma = np.sqrt(p1 * (1 - p1)/ len(sample1) + p2 * (1 - p2)/ len(sample2))\n",
    "    left_boundary = (p1 - p2) - z * sigma\n",
    "    right_boundary = (p1 - p2) + z * sigma\n",
    "    return (left_boundary, right_boundary)\n",
    "def proportions_confint_diff_rel(sample1, sample2, alpha = 0.01):\n",
    "    '''Считает доверительный интервал для разности долей в связных выборках'''\n",
    "    z = scipy.stats.norm.ppf(1 - alpha / 2.)\n",
    "    n = len(sample1)\n",
    "    a_10 = sum([1 if (x[0] == 1 and x[1] == 0) else 0 for x in zip(sample1, sample2)])\n",
    "    a_01 = sum([1 if (x[0] == 0 and x[1] == 1) else 0 for x in zip(sample1, sample2)])\n",
    "    sigma = np.sqrt(float((a_10 + a_01)) / n ** 2 - float((a_10 - a_01) ** 2) / n ** 3)\n",
    "    left_boundary = float(a_10 - a_01) / n  - z * sigma\n",
    "    right_boundary = float(a_10 - a_01) / n  + z * sigma\n",
    "    return (left_boundary, right_boundary)"
   ]
  },
  {
   "cell_type": "code",
   "execution_count": 7,
   "metadata": {},
   "outputs": [
    {
     "name": "stdout",
     "output_type": "stream",
     "text": [
      "client has high education 99% confidence interval: [0.307 - 0.348]\n",
      "client hasn't high education 99% confidence interval: [0.212 - 0.239]\n"
     ]
    }
   ],
   "source": [
    "client_has_education_conf_int = proportion_confint(df[df.has_high_education_flg==1].approved_flg.sum(),\n",
    "                                                    len(df[df.has_high_education_flg==1].approved_flg),\n",
    "                                                    alpha = 0.01,\n",
    "                                                    method = 'wilson')\n",
    "client_hasnt_education_conf_int = proportion_confint(df[df.has_high_education_flg==0].approved_flg.sum(),\n",
    "                                                    len(df[df.has_high_education_flg==0].approved_flg),\n",
    "                                                    alpha = 0.01,\n",
    "                                                    method = 'wilson')\n",
    "\n",
    "print(f'client has high education 99% confidence interval: [{client_has_education_conf_int[0]:.3f} - {client_has_education_conf_int[1]:.3f}]')\n",
    "print(f\"client hasn't high education 99% confidence interval: [{client_hasnt_education_conf_int[0]:.3f} - {client_hasnt_education_conf_int[1]:.3f}]\")"
   ]
  },
  {
   "cell_type": "markdown",
   "metadata": {},
   "source": [
    "Интервалы не пересекаются => наличие образования влияет на одоброение"
   ]
  },
  {
   "cell_type": "code",
   "execution_count": 61,
   "metadata": {},
   "outputs": [
    {
     "name": "stdout",
     "output_type": "stream",
     "text": [
      "client has installment  99% confidence interval: [0.247 - 0.275]\n",
      "client hasn't installment 99% confidence interval: [0.244 - 0.281]\n"
     ]
    }
   ],
   "source": [
    "client_has_installment_conf_int = proportion_confint(df[df.installment_flg==1].approved_flg.sum(),\n",
    "                                                    len(df[df.installment_flg==1].approved_flg),\n",
    "                                                    alpha = 0.01,\n",
    "                                                    method = 'wilson')\n",
    "client_hasnt_installment_conf_int = proportion_confint(df[df.installment_flg==0].approved_flg.sum(),\n",
    "                                                    len(df[df.installment_flg==0].approved_flg),\n",
    "                                                    alpha = 0.01,\n",
    "                                                    method = 'wilson')\n",
    "\n",
    "print(f'client has installment  99% confidence interval: [{client_has_installment_conf_int[0]:.3f} - {client_has_installment_conf_int[1]:.3f}]')\n",
    "print(f\"client hasn't installment 99% confidence interval: [{client_hasnt_installment_conf_int[0]:.3f} - {client_hasnt_installment_conf_int[1]:.3f}]\")"
   ]
  },
  {
   "cell_type": "markdown",
   "metadata": {},
   "source": [
    "Интервалы пересекаются, исследуем дальше"
   ]
  },
  {
   "cell_type": "code",
   "execution_count": 62,
   "metadata": {},
   "outputs": [
    {
     "data": {
      "text/plain": [
       "(-0.02488224598127247, 0.021904336839108467)"
      ]
     },
     "execution_count": 62,
     "metadata": {},
     "output_type": "execute_result"
    }
   ],
   "source": [
    "proportions_confint_diff_ind(df[df.installment_flg==1].approved_flg,\n",
    "                             df[df.installment_flg==0].approved_flg)"
   ]
  },
  {
   "cell_type": "markdown",
   "metadata": {},
   "source": [
    "Лежит по разные стороны от 0, не стат значимо."
   ]
  },
  {
   "cell_type": "markdown",
   "metadata": {},
   "source": [
    "### Вещественные признаки\n",
    "### Возраст"
   ]
  },
  {
   "cell_type": "code",
   "execution_count": 65,
   "metadata": {},
   "outputs": [
    {
     "data": {
      "text/plain": [
       "<matplotlib.collections.LineCollection at 0x22ff6c849c8>"
      ]
     },
     "execution_count": 65,
     "metadata": {},
     "output_type": "execute_result"
    },
    {
     "data": {
      "image/png": "[encoded data removed]",
      "text/plain": [
       "<Figure size 432x288 with 1 Axes>"
      ]
     },
     "metadata": {
      "needs_background": "light"
     },
     "output_type": "display_data"
    }
   ],
   "source": [
    "df['age'].hist(bins=20)\n",
    "vlines(np.percentile(df.age,0),0,1500)\n",
    "vlines(np.percentile(df.age,10),0,1500)\n",
    "vlines(np.percentile(df.age,20),0,1500)\n",
    "vlines(np.percentile(df.age,30),0,1500)\n",
    "vlines(np.percentile(df.age,40),0,1500)\n",
    "vlines(np.percentile(df.age,50),0,1500)\n",
    "vlines(np.percentile(df.age,60),0,1500)\n",
    "vlines(np.percentile(df.age,70),0,1500)\n",
    "vlines(np.percentile(df.age,80),0,1500)\n",
    "vlines(np.percentile(df.age,90),0,1500)\n",
    "vlines(np.percentile(df.age,100),0,1500)\n",
    "\n",
    "\n"
   ]
  },
  {
   "cell_type": "code",
   "execution_count": 78,
   "metadata": {},
   "outputs": [
    {
     "name": "stdout",
     "output_type": "stream",
     "text": [
      " 18.0-21.0 yaers client 99% confidence interval: [0.040 - 0.085]\n",
      " 21.0-23.0 yaers client 99% confidence interval: [0.100 - 0.179]\n",
      " 23.0-25.0 yaers client 99% confidence interval: [0.142 - 0.236]\n",
      " 25.0-27.0 yaers client 99% confidence interval: [0.165 - 0.271]\n",
      " 27.0-30.0 yaers client 99% confidence interval: [0.214 - 0.294]\n",
      " 30.0-33.0 yaers client 99% confidence interval: [0.282 - 0.372]\n",
      " 33.0-36.0 yaers client 99% confidence interval: [0.243 - 0.341]\n",
      " 36.0-41.0 yaers client 99% confidence interval: [0.296 - 0.379]\n",
      " 41.0-50.0 yaers client 99% confidence interval: [0.355 - 0.440]\n",
      " 50.0-74.0 yaers client 99% confidence interval: [0.387 - 0.470]\n"
     ]
    },
    {
     "data": {
      "image/png": "[encoded data removed]",
      "text/plain": [
       "<Figure size 864x720 with 1 Axes>"
      ]
     },
     "metadata": {
      "needs_background": "light"
     },
     "output_type": "display_data"
    }
   ],
   "source": [
    "approved=[]\n",
    "\n",
    "for i in range(10):\n",
    "    mylist = [0,10,20,30,40,50,60,70,80,90,100]\n",
    "    buckets = df[(df.age > np.percentile(df.age,mylist[i])) & (df.age < np.percentile(df.age,mylist[i+1]))].approved_flg\n",
    "    approved_client_conf_int = proportion_confint(buckets.sum(),\n",
    "                                                 len(buckets),\n",
    "                                                 alpha = 0.01,\n",
    "                                                 method = 'wilson')\n",
    "    approved.append(approved_client_conf_int)\n",
    "    print(f' {np.percentile(df.age,mylist[i])}-{np.percentile(df.age,mylist[i+1])} yaers client 99% confidence interval: [{approved_client_conf_int[0]:.3f} - {approved_client_conf_int[1]:.3f}]')\n",
    "pylab.figure(figsize=(12, 10))\n",
    "pylab.grid()\n",
    "x=[]\n",
    "for i in range(10):\n",
    "    pylab.vlines(x=i, ymin=approved[i][0], ymax=approved[i][1], color='green')\n",
    "    x.append(f'{np.percentile(df.age,mylist[i])}-{np.percentile(df.age,mylist[i+1])}')\n",
    "    xticks(np.arange(10), (x), rotation=40)\n"
   ]
  },
  {
   "cell_type": "markdown",
   "metadata": {},
   "source": [
    "### Запрошенная сумма"
   ]
  },
  {
   "cell_type": "code",
   "execution_count": 155,
   "metadata": {},
   "outputs": [
    {
     "name": "stdout",
     "output_type": "stream",
     "text": [
      " 0-10 percentile client 99% confidence interval: [0.304 - 0.381]\n",
      " 10-20 percentile client 99% confidence interval: [0.321 - 0.399]\n",
      " 20-30 percentile client 99% confidence interval: [0.266 - 0.341]\n",
      " 30-40 percentile client 99% confidence interval: [0.252 - 0.325]\n",
      " 40-50 percentile client 99% confidence interval: [0.256 - 0.330]\n",
      " 50-60 percentile client 99% confidence interval: [0.261 - 0.335]\n",
      " 60-70 percentile client 99% confidence interval: [0.213 - 0.283]\n",
      " 70-80 percentile client 99% confidence interval: [0.148 - 0.210]\n",
      " 80-90 percentile client 99% confidence interval: [0.141 - 0.202]\n",
      " 90-100 percentile client 99% confidence interval: [0.113 - 0.170]\n"
     ]
    },
    {
     "data": {
      "image/png": "[encoded data removed]",
      "text/plain": [
       "<Figure size 864x720 with 1 Axes>"
      ]
     },
     "metadata": {
      "needs_background": "light"
     },
     "output_type": "display_data"
    }
   ],
   "source": [
    "approved=[]\n",
    "\n",
    "for i in range(10):\n",
    "    mylist = [0,10,20,30,40,50,60,70,80,90,100] \n",
    "    buckets = df[(df.required_amt > np.percentile(df['required_amt'].dropna().astype(int64),mylist[i])) & (df.required_amt <  np.percentile(df['required_amt'].dropna().astype(int64),mylist[i+1]))].approved_flg\n",
    "    approved_client_conf_int = proportion_confint(buckets.sum(),\n",
    "                                                 len(buckets),\n",
    "                                                 alpha = 0.01,\n",
    "                                                 method = 'wilson')\n",
    "    approved.append(approved_client_conf_int)\n",
    "    print(f' {mylist[i]}-{mylist[i+1]} percentile client 99% confidence interval: [{approved_client_conf_int[0]:.3f} - {approved_client_conf_int[1]:.3f}]')\n",
    "pylab.figure(figsize=(12, 10))\n",
    "pylab.grid()\n",
    "x=[]\n",
    "for i in range(10):\n",
    "    pylab.vlines(x=i, ymin=approved[i][0], ymax=approved[i][1], color='green')\n",
    "    x.append(f'{mylist[i]}-{mylist[i+1]}')\n",
    "    xticks(np.arange(10), (x), rotation=40)"
   ]
  },
  {
   "cell_type": "markdown",
   "metadata": {},
   "source": [
    "### Ежемесячный доход"
   ]
  },
  {
   "cell_type": "code",
   "execution_count": 160,
   "metadata": {},
   "outputs": [
    {
     "name": "stdout",
     "output_type": "stream",
     "text": [
      " 22.0-20000.0 rub client 99% confidence interval: [0.255 - 0.347]\n",
      " 20000.0-25000.0 rub client 99% confidence interval: [0.181 - 0.308]\n",
      " 25000.0-30000.0 rub client 99% confidence interval: [0.167 - 0.266]\n",
      " 30000.0-35000.0 rub client 99% confidence interval: [0.156 - 0.278]\n",
      " 35000.0-40000.0 rub client 99% confidence interval: [0.198 - 0.333]\n",
      " 40000.0-45000.0 rub client 99% confidence interval: [0.147 - 0.300]\n",
      " 45000.0-50000.0 rub client 99% confidence interval: [0.128 - 0.279]\n",
      " 50000.0-60000.0 rub client 99% confidence interval: [0.153 - 0.250]\n",
      " 60000.0-80000.0 rub client 99% confidence interval: [0.218 - 0.302]\n",
      " 80000.0-1500000.0 rub client 99% confidence interval: [0.240 - 0.320]\n"
     ]
    },
    {
     "data": {
      "image/png": "[encoded data removed]",
      "text/plain": [
       "<Figure size 864x720 with 1 Axes>"
      ]
     },
     "metadata": {
      "needs_background": "light"
     },
     "output_type": "display_data"
    }
   ],
   "source": [
    "approved=[]\n",
    "\n",
    "for i in range(10):\n",
    "    mylist = [0,10,20,30,40,50,60,70,80,90,100]  \n",
    "    buckets = df[(df.monthly_income_amt > np.percentile(df.monthly_income_amt,mylist[i])) & (df.monthly_income_amt < np.percentile(df.monthly_income_amt,mylist[i+1]))].approved_flg\n",
    "    approved_client_conf_int = proportion_confint(buckets.sum(),\n",
    "                                                 len(buckets),\n",
    "                                                 alpha = 0.01,\n",
    "                                                 method = 'wilson')\n",
    "    approved.append(approved_client_conf_int)\n",
    "    print(f' {np.percentile(df.monthly_income_amt,mylist[i])}-{np.percentile(df.monthly_income_amt,mylist[i+1])} rub client 99% confidence interval: [{approved_client_conf_int[0]:.3f} - {approved_client_conf_int[1]:.3f}]')\n",
    "pylab.figure(figsize=(12, 10))\n",
    "pylab.grid()\n",
    "x=[]\n",
    "for i in range(10):\n",
    "    pylab.vlines(x=i, ymin=approved[i][0], ymax=approved[i][1], color='green')\n",
    "    x.append(f'{np.percentile(df.monthly_income_amt,mylist[i])}-{np.percentile(df.monthly_income_amt,mylist[i+1])}')\n",
    "    xticks(np.arange(10), (x), rotation=40)"
   ]
  },
  {
   "cell_type": "markdown",
   "metadata": {},
   "source": [
    "# 3 пункт"
   ]
  },
  {
   "cell_type": "markdown",
   "metadata": {},
   "source": [
    "# На основе того же набора данных требуется\n",
    " \n",
    "1. Построить предсказательные интервалы для ежемесячного дохода и запрошенной суммы (в предположении логнормальности)\n",
    "2. Определить для каждого признака, разделяет ли он риски. Т.е. надо строить доверительные интервалы для **approved_flg** по каждому признаку. *Подсказка:* для бинарных признаков можно строить интервалы на разность долей, для вещественных признаков - используйте разбивки на бакеты (группы равного размера) и сравнивайте полученные интервалы между этими группами. Попробуйте визуализировать результаты (для вещественных признаков).\n",
    "3. Введите бинарный признак (какая сумма больше - запрошенная или ежемесячная зарплата) - оцените точечно и интервально шансы (odds) одобрения в зависимости от этого признака $$\\text{odds: } \\frac{p}{1-p}$$ Постройте также интервал для отношения шансов на этих выборках. *Подсказка:* используйте бутстреп.\n",
    " "
   ]
  },
  {
   "cell_type": "code",
   "execution_count": 67,
   "metadata": {},
   "outputs": [],
   "source": [
    "new = []\n",
    "for i in range(len(df)):\n",
    "    if df.required_amt[i] > df.monthly_income_amt[i]:\n",
    "        new.append(1)\n",
    "    else:\n",
    "        new.append(0)\n",
    "df['new']=new"
   ]
  },
  {
   "cell_type": "markdown",
   "metadata": {},
   "source": [
    "# Точечные оценки"
   ]
  },
  {
   "cell_type": "markdown",
   "metadata": {},
   "source": [
    "### odds-одобренных"
   ]
  },
  {
   "cell_type": "code",
   "execution_count": 68,
   "metadata": {},
   "outputs": [
    {
     "data": {
      "text/plain": [
       "0.21964285714285714"
      ]
     },
     "execution_count": 68,
     "metadata": {},
     "output_type": "execute_result"
    }
   ],
   "source": [
    "p_approved = df[df.new == 1].approved_flg.sum()/len(df[df.new == 1].approved_flg)\n",
    "odds_approved = p_approved/(1-p_approved)\n",
    "odds_approved"
   ]
  },
  {
   "cell_type": "markdown",
   "metadata": {},
   "source": [
    "### odds-отказанных"
   ]
  },
  {
   "cell_type": "code",
   "execution_count": 87,
   "metadata": {},
   "outputs": [
    {
     "data": {
      "text/plain": [
       "0.4349531488341687"
      ]
     },
     "execution_count": 87,
     "metadata": {},
     "output_type": "execute_result"
    }
   ],
   "source": [
    "p_rejected = df[df.new == 0].approved_flg.sum()/len(df[df.new == 0].approved_flg)\n",
    "odds_rejected = p_rejected/(1-p_rejected)\n",
    "odds_rejected"
   ]
  },
  {
   "cell_type": "code",
   "execution_count": 88,
   "metadata": {},
   "outputs": [],
   "source": [
    "def get_bootstrap_samples(data, n_samples):\n",
    "    np.random.seed(0)\n",
    "    '''Генерирует заданное кол-во (n_samples) выборок, равных по размеру исходной выборке'''\n",
    "    indices = np.random.randint(0, len(data), (n_samples, len(data)))\n",
    "    samples = data[indices]\n",
    "    return samples\n",
    "def get_stat_intervals(stat, alpha):\n",
    "    np.random.seed(0)\n",
    "    '''Для заданной выборки возвращает двусторонний доверительный интервал [aplpha/2, 1 - alpha/2]'''\n",
    "    boundaries = np.percentile(stat, [100 * alpha / 2., 100 * (1 - alpha / 2.)])\n",
    "    return boundaries"
   ]
  },
  {
   "cell_type": "markdown",
   "metadata": {},
   "source": [
    "### Интервальная оценка с помощью бутстрепа"
   ]
  },
  {
   "cell_type": "code",
   "execution_count": 89,
   "metadata": {},
   "outputs": [
    {
     "name": "stdout",
     "output_type": "stream",
     "text": [
      "approved client 99% confidence interval: [0.19698353 0.24453807]\n",
      "rejected client 99% confidence interval: [0.40704377 0.46921017]\n"
     ]
    }
   ],
   "source": [
    "\n",
    "approved = get_bootstrap_samples(df[df.new == 1].approved_flg.values, 1000)\n",
    "rejected = get_bootstrap_samples(df[df.new == 0].approved_flg.values, 1000)\n",
    "def odds(data):\n",
    "    boots = []\n",
    "    for i in range(len(data)):\n",
    "        p = (sum(data[i])/len(data[i]))\n",
    "        boots.append(p/(1-p))\n",
    "        \n",
    "    return boots\n",
    "\n",
    "approved_odds_scores = odds(approved)\n",
    "rejected_odds_scores = odds(rejected)\n",
    "print('approved client 99% confidence interval:',  get_stat_intervals(approved_odds_scores, 0.01))\n",
    "print('rejected client 99% confidence interval:',  get_stat_intervals(rejected_odds_scores, 0.01))   "
   ]
  },
  {
   "cell_type": "markdown",
   "metadata": {},
   "source": [
    "Видно, что наши точечные оценки входят в интевральные"
   ]
  },
  {
   "cell_type": "code",
   "execution_count": 90,
   "metadata": {},
   "outputs": [
    {
     "name": "stdout",
     "output_type": "stream",
     "text": [
      "Среднее отношение в шансах: 1.98\n"
     ]
    }
   ],
   "source": [
    "diff_odds_scores = list(map(lambda x: x[1]/x[0], zip(approved_odds_scores, rejected_odds_scores)))\n",
    "print(f'Среднее отношение в шансах: {sum(diff_odds_scores) / len(diff_odds_scores) :.2f}')"
   ]
  },
  {
   "cell_type": "code",
   "execution_count": 91,
   "metadata": {},
   "outputs": [
    {
     "name": "stdout",
     "output_type": "stream",
     "text": [
      "99% confidence interval for the ratio between odds [1.70047984 2.27216691]\n"
     ]
    }
   ],
   "source": [
    "print('99% confidence interval for the ratio between odds',  get_stat_intervals(diff_odds_scores, 0.01))"
   ]
  },
  {
   "cell_type": "code",
   "execution_count": null,
   "metadata": {},
   "outputs": [],
   "source": []
  }
 ],
 "metadata": {
  "kernelspec": {
   "display_name": "Python 3",
   "language": "python",
   "name": "python3"
  },
  "language_info": {
   "codemirror_mode": {
    "name": "ipython",
    "version": 3
   },
   "file_extension": ".py",
   "mimetype": "text/x-python",
   "name": "python",
   "nbconvert_exporter": "python",
   "pygments_lexer": "ipython3",
   "version": "3.7.10"
  }
 },
 "nbformat": 4,
 "nbformat_minor": 2
}
