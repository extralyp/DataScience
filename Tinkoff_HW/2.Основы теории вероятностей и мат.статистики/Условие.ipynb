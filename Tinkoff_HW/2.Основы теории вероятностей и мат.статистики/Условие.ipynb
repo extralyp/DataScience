{
 "cells": [
  {
   "cell_type": "code",
   "execution_count": null,
   "metadata": {
    "id": "UyG96pL_xbPN"
   },
   "outputs": [],
   "source": [
    "import numpy as np\n",
    "import scipy.stats as st\n",
    "import matplotlib.pyplot as plt\n",
    "\n",
    "%config InlineBackend.figure_format ='retina' "
   ]
  },
  {
   "cell_type": "markdown",
   "metadata": {
    "id": "SyBcB-QsIyCl"
   },
   "source": [
    "### Задание 1.\n",
    "\n",
    "Сгенерируйте выборку $X_1, ..., X_N$ из стандартного нормального распределения для\n",
    "$N = 10^4.$ Для всех $n\\leq N$ посчитайте по ней эмпирическую\n",
    "функцию распределения. Для некоторых $n$ (например, $n \\in \\{10, 25,\n",
    "50, 100, 1000, N\\}$) постройте графики эмпи\\-рической функции\n",
    "распределения (отметьте на оси абсцисс точки \"скачков\" кривых,\n",
    "нанеся каждую из \"подвыборок\" на ось абсцисс на каждом\n",
    "соответствующем графике с коэффициентом прозрачности 0.2), нанеся на\n",
    "каждый из них истинную функцию распределения (количество графиков\n",
    "равно количеству различныз значений $n$). \n",
    "\n",
    "Будет полезно: https://matplotlib.org/stable/gallery/lines_bars_and_markers/step_demo.html\n",
    "\n",
    "(Должна получиться картина, как в конце презентации https://edu.tinkoff.ru/course/181/unit/5064/view)"
   ]
  },
  {
   "cell_type": "code",
   "execution_count": null,
   "metadata": {
    "id": "I-qASIejIWGA"
   },
   "outputs": [],
   "source": [
    "from scipy.stats import norm"
   ]
  },
  {
   "cell_type": "code",
   "execution_count": null,
   "metadata": {
    "id": "ltjuGVQgIXV7"
   },
   "outputs": [],
   "source": [
    "X = norm.rvs(size=1000)"
   ]
  },
  {
   "cell_type": "code",
   "execution_count": null,
   "metadata": {
    "id": "V3T0JGGuIYuw"
   },
   "outputs": [],
   "source": []
  },
  {
   "cell_type": "markdown",
   "metadata": {
    "id": "L4JQi5xgwPU7"
   },
   "source": [
    "### Задание 2. Задача Бюффона о бросании иглы\n",
    "\n",
    "Классическая формулировка задачи выглядит так:\n",
    "\n",
    "На разлинованный лист бумаги, расстояния между линиями $r=1$ бросают иглы длиной $L < r$. Какова вероятность того, что игла попадет на линию? \n",
    "\n",
    "Для этой задачи существует теоретическое решение:\n",
    "\n",
    "$$p = \\dfrac{2L}{r\\pi}\\ \\ \\ \\ \\ (1)$$.\n",
    "\n",
    "**Задание**\n",
    "\n",
    "Проведем эксперимент, найдем вероятность пересечения иглой линии из эксперимента. С помощью теоретического решения найдем значение числа $\\pi$.\n",
    "\n",
    "https://ru.wikipedia.org/wiki/Задача_Бюффона_о_бросании_иглы\n",
    "\n",
    "Сгенерируем две случайные величины $X1$ и $Y1$ из равномерного распределения. Это будут координаты одно из концов иглы. Сгенерируем случайную величину $\\alpha$ из $U[0, 2\\pi]$, она будет отвечать за угол между иглой и горизонтальной осью. Так как длина иглы $L$ задана изначально, то координаты конца иглы:\n",
    "\n",
    "$$X_2 = X_1 + L \\cdot \\cos(\\alpha)$$\n",
    "$$Y_2 = Y_1 + L \\cdot \\sin(\\alpha)$$\n",
    "\n",
    "Отобразите на полотне отрезки, соответсвующие каждой игле. Проведите горизонтальные линии, пригодится https://matplotlib.org/stable/api/_as_gen/matplotlib.pyplot.hlines.html. (Должна получиться картина, как в конце презентации https://edu.tinkoff.ru/course/181/unit/5064/view)\n",
    "\n",
    "Так как расстояние между горизонтальными линиями 1, то пересечение иглы с линией можно найти так: спроецируем иглы на вертикальную ось, получим отрезки $[y_2, y_1]$. Если в пределах отрезка $[y_2, y_1]$ лежит целое число, значит проекция, а соотвественно и игла, пересекают горизонтальную ось. Найдем долю игл, пересекающий горизонтальную линию. Эта доля и будет оценкой вероятности в формуле (1). Зная вероятность, из формулы (1) можно выразить значение числа $\\pi$.\n"
   ]
  },
  {
   "cell_type": "code",
   "execution_count": null,
   "metadata": {
    "id": "5qLT32DnJIbR"
   },
   "outputs": [],
   "source": []
  }
 ],
 "metadata": {
  "colab": {
   "collapsed_sections": [],
   "name": "Lec3_HW.ipynb",
   "provenance": []
  },
  "kernelspec": {
   "display_name": "Python 3",
   "language": "python",
   "name": "python3"
  },
  "language_info": {
   "codemirror_mode": {
    "name": "ipython",
    "version": 3
   },
   "file_extension": ".py",
   "mimetype": "text/x-python",
   "name": "python",
   "nbconvert_exporter": "python",
   "pygments_lexer": "ipython3",
   "version": "3.7.10"
  }
 },
 "nbformat": 4,
 "nbformat_minor": 1
}
